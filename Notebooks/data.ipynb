{
 "cells": [
  {
   "cell_type": "code",
   "execution_count": 1,
   "metadata": {},
   "outputs": [
    {
     "name": "stderr",
     "output_type": "stream",
     "text": [
      "[nltk_data] Downloading package stopwords to /Users/varun/nltk_data...\n",
      "[nltk_data]   Package stopwords is already up-to-date!\n",
      "[nltk_data] Downloading package punkt to /Users/varun/nltk_data...\n",
      "[nltk_data]   Package punkt is already up-to-date!\n",
      "[nltk_data] Downloading package wordnet to /Users/varun/nltk_data...\n",
      "[nltk_data]   Package wordnet is already up-to-date!\n",
      "[nltk_data] Downloading package omw-1.4 to /Users/varun/nltk_data...\n",
      "[nltk_data]   Package omw-1.4 is already up-to-date!\n"
     ]
    },
    {
     "data": {
      "text/plain": [
       "True"
      ]
     },
     "execution_count": 1,
     "metadata": {},
     "output_type": "execute_result"
    }
   ],
   "source": [
    "import pandas as pd\n",
    "import numpy as np\n",
    "import matplotlib.pyplot as plt\n",
    "import os\n",
    "import seaborn as sns\n",
    "import matplotlib.pyplot as plt\n",
    "import re\n",
    "import string\n",
    "\n",
    "import nltk\n",
    "from nltk.corpus import stopwords\n",
    "from nltk.stem.wordnet import WordNetLemmatizer\n",
    "nltk.download('stopwords')\n",
    "nltk.download('punkt')\n",
    "nltk.download('wordnet')\n",
    "nltk.download('omw-1.4')"
   ]
  },
  {
   "cell_type": "code",
   "execution_count": 2,
   "metadata": {},
   "outputs": [],
   "source": [
    "DATA_DIR = \"../data/\""
   ]
  },
  {
   "cell_type": "code",
   "execution_count": 3,
   "metadata": {},
   "outputs": [],
   "source": [
    "data = pd.read_csv(os.path.join(DATA_DIR,os.listdir(DATA_DIR)[0]),index_col=[\"Unnamed: 0\"])"
   ]
  },
  {
   "cell_type": "code",
   "execution_count": 4,
   "metadata": {},
   "outputs": [
    {
     "data": {
      "text/html": [
       "<div>\n",
       "<style scoped>\n",
       "    .dataframe tbody tr th:only-of-type {\n",
       "        vertical-align: middle;\n",
       "    }\n",
       "\n",
       "    .dataframe tbody tr th {\n",
       "        vertical-align: top;\n",
       "    }\n",
       "\n",
       "    .dataframe thead th {\n",
       "        text-align: right;\n",
       "    }\n",
       "</style>\n",
       "<table border=\"1\" class=\"dataframe\">\n",
       "  <thead>\n",
       "    <tr style=\"text-align: right;\">\n",
       "      <th></th>\n",
       "      <th>user</th>\n",
       "      <th>text</th>\n",
       "      <th>favorite_count</th>\n",
       "      <th>retweet_count</th>\n",
       "      <th>created_at</th>\n",
       "    </tr>\n",
       "  </thead>\n",
       "  <tbody>\n",
       "    <tr>\n",
       "      <th>0</th>\n",
       "      <td>elonmusk</td>\n",
       "      <td>@EvaFoxU @BillyM2k Hopefully, as soon as next ...</td>\n",
       "      <td>298</td>\n",
       "      <td>30</td>\n",
       "      <td>2022-11-09 19:22:40+00:00</td>\n",
       "    </tr>\n",
       "    <tr>\n",
       "      <th>1</th>\n",
       "      <td>elonmusk</td>\n",
       "      <td>@BillyM2k Totally agree!</td>\n",
       "      <td>1417</td>\n",
       "      <td>87</td>\n",
       "      <td>2022-11-09 19:15:15+00:00</td>\n",
       "    </tr>\n",
       "    <tr>\n",
       "      <th>2</th>\n",
       "      <td>elonmusk</td>\n",
       "      <td>@TOIPlus Nope, I was alway 🥜 !</td>\n",
       "      <td>27360</td>\n",
       "      <td>1397</td>\n",
       "      <td>2022-11-09 17:58:22+00:00</td>\n",
       "    </tr>\n",
       "    <tr>\n",
       "      <th>3</th>\n",
       "      <td>elonmusk</td>\n",
       "      <td>@ZubyMusic Yeah</td>\n",
       "      <td>2740</td>\n",
       "      <td>72</td>\n",
       "      <td>2022-11-09 17:57:21+00:00</td>\n",
       "    </tr>\n",
       "    <tr>\n",
       "      <th>4</th>\n",
       "      <td>elonmusk</td>\n",
       "      <td>@lawrencekitema @SpaceNews_Inc Congratulations!</td>\n",
       "      <td>2034</td>\n",
       "      <td>103</td>\n",
       "      <td>2022-11-09 17:37:21+00:00</td>\n",
       "    </tr>\n",
       "  </tbody>\n",
       "</table>\n",
       "</div>"
      ],
      "text/plain": [
       "       user                                               text  \\\n",
       "0  elonmusk  @EvaFoxU @BillyM2k Hopefully, as soon as next ...   \n",
       "1  elonmusk                           @BillyM2k Totally agree!   \n",
       "2  elonmusk                     @TOIPlus Nope, I was alway 🥜 !   \n",
       "3  elonmusk                                    @ZubyMusic Yeah   \n",
       "4  elonmusk    @lawrencekitema @SpaceNews_Inc Congratulations!   \n",
       "\n",
       "   favorite_count  retweet_count                 created_at  \n",
       "0             298             30  2022-11-09 19:22:40+00:00  \n",
       "1            1417             87  2022-11-09 19:15:15+00:00  \n",
       "2           27360           1397  2022-11-09 17:58:22+00:00  \n",
       "3            2740             72  2022-11-09 17:57:21+00:00  \n",
       "4            2034            103  2022-11-09 17:37:21+00:00  "
      ]
     },
     "execution_count": 4,
     "metadata": {},
     "output_type": "execute_result"
    }
   ],
   "source": [
    "data.head()"
   ]
  },
  {
   "cell_type": "markdown",
   "metadata": {},
   "source": [
    "### We want to remove created_at and user columns from the data frame"
   ]
  },
  {
   "cell_type": "code",
   "execution_count": 5,
   "metadata": {},
   "outputs": [],
   "source": [
    "data.drop(['user','created_at'],axis=1,inplace=True)"
   ]
  },
  {
   "cell_type": "markdown",
   "metadata": {},
   "source": [
    "## Lets do some basic EDA"
   ]
  },
  {
   "cell_type": "markdown",
   "metadata": {},
   "source": [
    "#### 1) Checking the number of Null Values"
   ]
  },
  {
   "cell_type": "code",
   "execution_count": 6,
   "metadata": {},
   "outputs": [
    {
     "data": {
      "text/plain": [
       "text              0\n",
       "favorite_count    0\n",
       "retweet_count     0\n",
       "dtype: int64"
      ]
     },
     "execution_count": 6,
     "metadata": {},
     "output_type": "execute_result"
    }
   ],
   "source": [
    "data.isna().sum()"
   ]
  },
  {
   "cell_type": "code",
   "execution_count": 7,
   "metadata": {},
   "outputs": [
    {
     "name": "stdout",
     "output_type": "stream",
     "text": [
      "<class 'pandas.core.frame.DataFrame'>\n",
      "Int64Index: 189 entries, 0 to 188\n",
      "Data columns (total 3 columns):\n",
      " #   Column          Non-Null Count  Dtype \n",
      "---  ------          --------------  ----- \n",
      " 0   text            189 non-null    object\n",
      " 1   favorite_count  189 non-null    int64 \n",
      " 2   retweet_count   189 non-null    int64 \n",
      "dtypes: int64(2), object(1)\n",
      "memory usage: 5.9+ KB\n"
     ]
    }
   ],
   "source": [
    "data.info()"
   ]
  },
  {
   "cell_type": "markdown",
   "metadata": {},
   "source": [
    "##### No null values detected in the data"
   ]
  },
  {
   "cell_type": "markdown",
   "metadata": {},
   "source": [
    "#### 2) Top 10 Favorite Tweets"
   ]
  },
  {
   "cell_type": "code",
   "execution_count": 8,
   "metadata": {},
   "outputs": [],
   "source": [
    "sorted_dataframe = data.sort_values(['favorite_count'],ascending=False).groupby('text').head()"
   ]
  },
  {
   "cell_type": "code",
   "execution_count": null,
   "metadata": {},
   "outputs": [],
   "source": []
  },
  {
   "cell_type": "code",
   "execution_count": 9,
   "metadata": {},
   "outputs": [
    {
     "name": "stderr",
     "output_type": "stream",
     "text": [
      "/Users/varun/opt/anaconda3/lib/python3.9/site-packages/seaborn/_decorators.py:36: FutureWarning: Pass the following variables as keyword args: x, y. From version 0.12, the only valid positional argument will be `data`, and passing other arguments without an explicit keyword will result in an error or misinterpretation.\n",
      "  warnings.warn(\n"
     ]
    },
    {
     "data": {
      "text/plain": [
       "[]"
      ]
     },
     "execution_count": 9,
     "metadata": {},
     "output_type": "execute_result"
    },
    {
     "data": {
      "image/png": "[encoded data removed]",
      "text/plain": [
       "<Figure size 1440x720 with 1 Axes>"
      ]
     },
     "metadata": {
      "needs_background": "light"
     },
     "output_type": "display_data"
    }
   ],
   "source": [
    "plt.figure(figsize=(20,10))\n",
    "plt.xticks(rotation=90)\n",
    "sns.barplot(sorted_dataframe['text'][:10],sorted_dataframe['favorite_count'][:10])\n",
    "plt.plot()"
   ]
  },
  {
   "cell_type": "code",
   "execution_count": 10,
   "metadata": {},
   "outputs": [],
   "source": [
    "df = data.copy()"
   ]
  },
  {
   "cell_type": "markdown",
   "metadata": {},
   "source": [
    "### Initial thoughts\n",
    " - Heavy benefit if we remove text with links, will remove redundant http data"
   ]
  },
  {
   "cell_type": "code",
   "execution_count": 11,
   "metadata": {},
   "outputs": [],
   "source": [
    "url = re.compile(r\"https?://(www\\.)?\")"
   ]
  },
  {
   "cell_type": "code",
   "execution_count": 12,
   "metadata": {},
   "outputs": [
    {
     "data": {
      "text/html": [
       "<div>\n",
       "<style scoped>\n",
       "    .dataframe tbody tr th:only-of-type {\n",
       "        vertical-align: middle;\n",
       "    }\n",
       "\n",
       "    .dataframe tbody tr th {\n",
       "        vertical-align: top;\n",
       "    }\n",
       "\n",
       "    .dataframe thead th {\n",
       "        text-align: right;\n",
       "    }\n",
       "</style>\n",
       "<table border=\"1\" class=\"dataframe\">\n",
       "  <thead>\n",
       "    <tr style=\"text-align: right;\">\n",
       "      <th></th>\n",
       "      <th>text</th>\n",
       "      <th>favorite_count</th>\n",
       "      <th>retweet_count</th>\n",
       "    </tr>\n",
       "  </thead>\n",
       "  <tbody>\n",
       "    <tr>\n",
       "      <th>0</th>\n",
       "      <td>@EvaFoxU @BillyM2k Hopefully, as soon as next ...</td>\n",
       "      <td>298</td>\n",
       "      <td>30</td>\n",
       "    </tr>\n",
       "    <tr>\n",
       "      <th>1</th>\n",
       "      <td>@BillyM2k Totally agree!</td>\n",
       "      <td>1417</td>\n",
       "      <td>87</td>\n",
       "    </tr>\n",
       "    <tr>\n",
       "      <th>2</th>\n",
       "      <td>@TOIPlus Nope, I was alway 🥜 !</td>\n",
       "      <td>27360</td>\n",
       "      <td>1397</td>\n",
       "    </tr>\n",
       "    <tr>\n",
       "      <th>3</th>\n",
       "      <td>@ZubyMusic Yeah</td>\n",
       "      <td>2740</td>\n",
       "      <td>72</td>\n",
       "    </tr>\n",
       "    <tr>\n",
       "      <th>4</th>\n",
       "      <td>@lawrencekitema @SpaceNews_Inc Congratulations!</td>\n",
       "      <td>2034</td>\n",
       "      <td>103</td>\n",
       "    </tr>\n",
       "    <tr>\n",
       "      <th>...</th>\n",
       "      <td>...</td>\n",
       "      <td>...</td>\n",
       "      <td>...</td>\n",
       "    </tr>\n",
       "    <tr>\n",
       "      <th>184</th>\n",
       "      <td>@Erdayastronaut @SpaceForceDoD @SLDelta45 @Spa...</td>\n",
       "      <td>21354</td>\n",
       "      <td>1120</td>\n",
       "    </tr>\n",
       "    <tr>\n",
       "      <th>185</th>\n",
       "      <td>@Jihoz_Axie Sounds like a good idea</td>\n",
       "      <td>34218</td>\n",
       "      <td>1267</td>\n",
       "    </tr>\n",
       "    <tr>\n",
       "      <th>186</th>\n",
       "      <td>@wintonARK 🎯</td>\n",
       "      <td>31447</td>\n",
       "      <td>1237</td>\n",
       "    </tr>\n",
       "    <tr>\n",
       "      <th>187</th>\n",
       "      <td>There will be a secondary tag below the name f...</td>\n",
       "      <td>100016</td>\n",
       "      <td>5674</td>\n",
       "    </tr>\n",
       "    <tr>\n",
       "      <th>188</th>\n",
       "      <td>https://t.co/icg6e35LOe</td>\n",
       "      <td>510936</td>\n",
       "      <td>30137</td>\n",
       "    </tr>\n",
       "  </tbody>\n",
       "</table>\n",
       "<p>189 rows × 3 columns</p>\n",
       "</div>"
      ],
      "text/plain": [
       "                                                  text  favorite_count  \\\n",
       "0    @EvaFoxU @BillyM2k Hopefully, as soon as next ...             298   \n",
       "1                             @BillyM2k Totally agree!            1417   \n",
       "2                       @TOIPlus Nope, I was alway 🥜 !           27360   \n",
       "3                                      @ZubyMusic Yeah            2740   \n",
       "4      @lawrencekitema @SpaceNews_Inc Congratulations!            2034   \n",
       "..                                                 ...             ...   \n",
       "184  @Erdayastronaut @SpaceForceDoD @SLDelta45 @Spa...           21354   \n",
       "185                @Jihoz_Axie Sounds like a good idea           34218   \n",
       "186                                       @wintonARK 🎯           31447   \n",
       "187  There will be a secondary tag below the name f...          100016   \n",
       "188                            https://t.co/icg6e35LOe          510936   \n",
       "\n",
       "     retweet_count  \n",
       "0               30  \n",
       "1               87  \n",
       "2             1397  \n",
       "3               72  \n",
       "4              103  \n",
       "..             ...  \n",
       "184           1120  \n",
       "185           1267  \n",
       "186           1237  \n",
       "187           5674  \n",
       "188          30137  \n",
       "\n",
       "[189 rows x 3 columns]"
      ]
     },
     "execution_count": 12,
     "metadata": {},
     "output_type": "execute_result"
    }
   ],
   "source": [
    "df"
   ]
  },
  {
   "cell_type": "code",
   "execution_count": 13,
   "metadata": {},
   "outputs": [],
   "source": [
    "for i,val in enumerate(df['text']):\n",
    "    if df['text'][i].startswith(('http','www')):\n",
    "        df.drop(index=[i],inplace=True)"
   ]
  },
  {
   "cell_type": "code",
   "execution_count": 14,
   "metadata": {},
   "outputs": [
    {
     "data": {
      "text/html": [
       "<div>\n",
       "<style scoped>\n",
       "    .dataframe tbody tr th:only-of-type {\n",
       "        vertical-align: middle;\n",
       "    }\n",
       "\n",
       "    .dataframe tbody tr th {\n",
       "        vertical-align: top;\n",
       "    }\n",
       "\n",
       "    .dataframe thead th {\n",
       "        text-align: right;\n",
       "    }\n",
       "</style>\n",
       "<table border=\"1\" class=\"dataframe\">\n",
       "  <thead>\n",
       "    <tr style=\"text-align: right;\">\n",
       "      <th></th>\n",
       "      <th>text</th>\n",
       "      <th>favorite_count</th>\n",
       "      <th>retweet_count</th>\n",
       "    </tr>\n",
       "  </thead>\n",
       "  <tbody>\n",
       "    <tr>\n",
       "      <th>0</th>\n",
       "      <td>@EvaFoxU @BillyM2k Hopefully, as soon as next ...</td>\n",
       "      <td>298</td>\n",
       "      <td>30</td>\n",
       "    </tr>\n",
       "    <tr>\n",
       "      <th>1</th>\n",
       "      <td>@BillyM2k Totally agree!</td>\n",
       "      <td>1417</td>\n",
       "      <td>87</td>\n",
       "    </tr>\n",
       "    <tr>\n",
       "      <th>2</th>\n",
       "      <td>@TOIPlus Nope, I was alway 🥜 !</td>\n",
       "      <td>27360</td>\n",
       "      <td>1397</td>\n",
       "    </tr>\n",
       "    <tr>\n",
       "      <th>3</th>\n",
       "      <td>@ZubyMusic Yeah</td>\n",
       "      <td>2740</td>\n",
       "      <td>72</td>\n",
       "    </tr>\n",
       "    <tr>\n",
       "      <th>4</th>\n",
       "      <td>@lawrencekitema @SpaceNews_Inc Congratulations!</td>\n",
       "      <td>2034</td>\n",
       "      <td>103</td>\n",
       "    </tr>\n",
       "    <tr>\n",
       "      <th>...</th>\n",
       "      <td>...</td>\n",
       "      <td>...</td>\n",
       "      <td>...</td>\n",
       "    </tr>\n",
       "    <tr>\n",
       "      <th>183</th>\n",
       "      <td>@thegoodgodabove 💯</td>\n",
       "      <td>7742</td>\n",
       "      <td>241</td>\n",
       "    </tr>\n",
       "    <tr>\n",
       "      <th>184</th>\n",
       "      <td>@Erdayastronaut @SpaceForceDoD @SLDelta45 @Spa...</td>\n",
       "      <td>21354</td>\n",
       "      <td>1120</td>\n",
       "    </tr>\n",
       "    <tr>\n",
       "      <th>185</th>\n",
       "      <td>@Jihoz_Axie Sounds like a good idea</td>\n",
       "      <td>34218</td>\n",
       "      <td>1267</td>\n",
       "    </tr>\n",
       "    <tr>\n",
       "      <th>186</th>\n",
       "      <td>@wintonARK 🎯</td>\n",
       "      <td>31447</td>\n",
       "      <td>1237</td>\n",
       "    </tr>\n",
       "    <tr>\n",
       "      <th>187</th>\n",
       "      <td>There will be a secondary tag below the name f...</td>\n",
       "      <td>100016</td>\n",
       "      <td>5674</td>\n",
       "    </tr>\n",
       "  </tbody>\n",
       "</table>\n",
       "<p>184 rows × 3 columns</p>\n",
       "</div>"
      ],
      "text/plain": [
       "                                                  text  favorite_count  \\\n",
       "0    @EvaFoxU @BillyM2k Hopefully, as soon as next ...             298   \n",
       "1                             @BillyM2k Totally agree!            1417   \n",
       "2                       @TOIPlus Nope, I was alway 🥜 !           27360   \n",
       "3                                      @ZubyMusic Yeah            2740   \n",
       "4      @lawrencekitema @SpaceNews_Inc Congratulations!            2034   \n",
       "..                                                 ...             ...   \n",
       "183                                 @thegoodgodabove 💯            7742   \n",
       "184  @Erdayastronaut @SpaceForceDoD @SLDelta45 @Spa...           21354   \n",
       "185                @Jihoz_Axie Sounds like a good idea           34218   \n",
       "186                                       @wintonARK 🎯           31447   \n",
       "187  There will be a secondary tag below the name f...          100016   \n",
       "\n",
       "     retweet_count  \n",
       "0               30  \n",
       "1               87  \n",
       "2             1397  \n",
       "3               72  \n",
       "4              103  \n",
       "..             ...  \n",
       "183            241  \n",
       "184           1120  \n",
       "185           1267  \n",
       "186           1237  \n",
       "187           5674  \n",
       "\n",
       "[184 rows x 3 columns]"
      ]
     },
     "execution_count": 14,
     "metadata": {},
     "output_type": "execute_result"
    }
   ],
   "source": [
    "df"
   ]
  },
  {
   "cell_type": "markdown",
   "metadata": {},
   "source": [
    "## Data Preprocessing Steps"
   ]
  },
  {
   "cell_type": "markdown",
   "metadata": {},
   "source": [
    "### 1) Lower Case the tweets"
   ]
  },
  {
   "cell_type": "code",
   "execution_count": 15,
   "metadata": {},
   "outputs": [],
   "source": [
    "    df['text'] = df['text'].map(lambda x:x.lower())"
   ]
  },
  {
   "cell_type": "code",
   "execution_count": 16,
   "metadata": {},
   "outputs": [
    {
     "data": {
      "text/html": [
       "<div>\n",
       "<style scoped>\n",
       "    .dataframe tbody tr th:only-of-type {\n",
       "        vertical-align: middle;\n",
       "    }\n",
       "\n",
       "    .dataframe tbody tr th {\n",
       "        vertical-align: top;\n",
       "    }\n",
       "\n",
       "    .dataframe thead th {\n",
       "        text-align: right;\n",
       "    }\n",
       "</style>\n",
       "<table border=\"1\" class=\"dataframe\">\n",
       "  <thead>\n",
       "    <tr style=\"text-align: right;\">\n",
       "      <th></th>\n",
       "      <th>text</th>\n",
       "      <th>favorite_count</th>\n",
       "      <th>retweet_count</th>\n",
       "    </tr>\n",
       "  </thead>\n",
       "  <tbody>\n",
       "    <tr>\n",
       "      <th>0</th>\n",
       "      <td>@evafoxu @billym2k hopefully, as soon as next ...</td>\n",
       "      <td>298</td>\n",
       "      <td>30</td>\n",
       "    </tr>\n",
       "    <tr>\n",
       "      <th>1</th>\n",
       "      <td>@billym2k totally agree!</td>\n",
       "      <td>1417</td>\n",
       "      <td>87</td>\n",
       "    </tr>\n",
       "    <tr>\n",
       "      <th>2</th>\n",
       "      <td>@toiplus nope, i was alway 🥜 !</td>\n",
       "      <td>27360</td>\n",
       "      <td>1397</td>\n",
       "    </tr>\n",
       "    <tr>\n",
       "      <th>3</th>\n",
       "      <td>@zubymusic yeah</td>\n",
       "      <td>2740</td>\n",
       "      <td>72</td>\n",
       "    </tr>\n",
       "    <tr>\n",
       "      <th>4</th>\n",
       "      <td>@lawrencekitema @spacenews_inc congratulations!</td>\n",
       "      <td>2034</td>\n",
       "      <td>103</td>\n",
       "    </tr>\n",
       "    <tr>\n",
       "      <th>...</th>\n",
       "      <td>...</td>\n",
       "      <td>...</td>\n",
       "      <td>...</td>\n",
       "    </tr>\n",
       "    <tr>\n",
       "      <th>183</th>\n",
       "      <td>@thegoodgodabove 💯</td>\n",
       "      <td>7742</td>\n",
       "      <td>241</td>\n",
       "    </tr>\n",
       "    <tr>\n",
       "      <th>184</th>\n",
       "      <td>@erdayastronaut @spaceforcedod @sldelta45 @spa...</td>\n",
       "      <td>21354</td>\n",
       "      <td>1120</td>\n",
       "    </tr>\n",
       "    <tr>\n",
       "      <th>185</th>\n",
       "      <td>@jihoz_axie sounds like a good idea</td>\n",
       "      <td>34218</td>\n",
       "      <td>1267</td>\n",
       "    </tr>\n",
       "    <tr>\n",
       "      <th>186</th>\n",
       "      <td>@wintonark 🎯</td>\n",
       "      <td>31447</td>\n",
       "      <td>1237</td>\n",
       "    </tr>\n",
       "    <tr>\n",
       "      <th>187</th>\n",
       "      <td>there will be a secondary tag below the name f...</td>\n",
       "      <td>100016</td>\n",
       "      <td>5674</td>\n",
       "    </tr>\n",
       "  </tbody>\n",
       "</table>\n",
       "<p>184 rows × 3 columns</p>\n",
       "</div>"
      ],
      "text/plain": [
       "                                                  text  favorite_count  \\\n",
       "0    @evafoxu @billym2k hopefully, as soon as next ...             298   \n",
       "1                             @billym2k totally agree!            1417   \n",
       "2                       @toiplus nope, i was alway 🥜 !           27360   \n",
       "3                                      @zubymusic yeah            2740   \n",
       "4      @lawrencekitema @spacenews_inc congratulations!            2034   \n",
       "..                                                 ...             ...   \n",
       "183                                 @thegoodgodabove 💯            7742   \n",
       "184  @erdayastronaut @spaceforcedod @sldelta45 @spa...           21354   \n",
       "185                @jihoz_axie sounds like a good idea           34218   \n",
       "186                                       @wintonark 🎯           31447   \n",
       "187  there will be a secondary tag below the name f...          100016   \n",
       "\n",
       "     retweet_count  \n",
       "0               30  \n",
       "1               87  \n",
       "2             1397  \n",
       "3               72  \n",
       "4              103  \n",
       "..             ...  \n",
       "183            241  \n",
       "184           1120  \n",
       "185           1267  \n",
       "186           1237  \n",
       "187           5674  \n",
       "\n",
       "[184 rows x 3 columns]"
      ]
     },
     "execution_count": 16,
     "metadata": {},
     "output_type": "execute_result"
    }
   ],
   "source": [
    "df"
   ]
  },
  {
   "cell_type": "markdown",
   "metadata": {},
   "source": [
    "### 2) Remove usernames from the tweets"
   ]
  },
  {
   "cell_type": "code",
   "execution_count": 17,
   "metadata": {},
   "outputs": [],
   "source": [
    "df['text'] = df['text'].apply(lambda s:re.sub('@[^\\s]+','',s))"
   ]
  },
  {
   "cell_type": "code",
   "execution_count": 18,
   "metadata": {},
   "outputs": [
    {
     "data": {
      "text/html": [
       "<div>\n",
       "<style scoped>\n",
       "    .dataframe tbody tr th:only-of-type {\n",
       "        vertical-align: middle;\n",
       "    }\n",
       "\n",
       "    .dataframe tbody tr th {\n",
       "        vertical-align: top;\n",
       "    }\n",
       "\n",
       "    .dataframe thead th {\n",
       "        text-align: right;\n",
       "    }\n",
       "</style>\n",
       "<table border=\"1\" class=\"dataframe\">\n",
       "  <thead>\n",
       "    <tr style=\"text-align: right;\">\n",
       "      <th></th>\n",
       "      <th>text</th>\n",
       "      <th>favorite_count</th>\n",
       "      <th>retweet_count</th>\n",
       "    </tr>\n",
       "  </thead>\n",
       "  <tbody>\n",
       "    <tr>\n",
       "      <th>0</th>\n",
       "      <td>hopefully, as soon as next week</td>\n",
       "      <td>298</td>\n",
       "      <td>30</td>\n",
       "    </tr>\n",
       "    <tr>\n",
       "      <th>1</th>\n",
       "      <td>totally agree!</td>\n",
       "      <td>1417</td>\n",
       "      <td>87</td>\n",
       "    </tr>\n",
       "    <tr>\n",
       "      <th>2</th>\n",
       "      <td>nope, i was alway 🥜 !</td>\n",
       "      <td>27360</td>\n",
       "      <td>1397</td>\n",
       "    </tr>\n",
       "    <tr>\n",
       "      <th>3</th>\n",
       "      <td>yeah</td>\n",
       "      <td>2740</td>\n",
       "      <td>72</td>\n",
       "    </tr>\n",
       "    <tr>\n",
       "      <th>4</th>\n",
       "      <td>congratulations!</td>\n",
       "      <td>2034</td>\n",
       "      <td>103</td>\n",
       "    </tr>\n",
       "    <tr>\n",
       "      <th>...</th>\n",
       "      <td>...</td>\n",
       "      <td>...</td>\n",
       "      <td>...</td>\n",
       "    </tr>\n",
       "    <tr>\n",
       "      <th>183</th>\n",
       "      <td>💯</td>\n",
       "      <td>7742</td>\n",
       "      <td>241</td>\n",
       "    </tr>\n",
       "    <tr>\n",
       "      <th>184</th>\n",
       "      <td>falcon heavy is a testament to the awesome...</td>\n",
       "      <td>21354</td>\n",
       "      <td>1120</td>\n",
       "    </tr>\n",
       "    <tr>\n",
       "      <th>185</th>\n",
       "      <td>sounds like a good idea</td>\n",
       "      <td>34218</td>\n",
       "      <td>1267</td>\n",
       "    </tr>\n",
       "    <tr>\n",
       "      <th>186</th>\n",
       "      <td>🎯</td>\n",
       "      <td>31447</td>\n",
       "      <td>1237</td>\n",
       "    </tr>\n",
       "    <tr>\n",
       "      <th>187</th>\n",
       "      <td>there will be a secondary tag below the name f...</td>\n",
       "      <td>100016</td>\n",
       "      <td>5674</td>\n",
       "    </tr>\n",
       "  </tbody>\n",
       "</table>\n",
       "<p>184 rows × 3 columns</p>\n",
       "</div>"
      ],
      "text/plain": [
       "                                                  text  favorite_count  \\\n",
       "0                      hopefully, as soon as next week             298   \n",
       "1                                       totally agree!            1417   \n",
       "2                                nope, i was alway 🥜 !           27360   \n",
       "3                                                 yeah            2740   \n",
       "4                                     congratulations!            2034   \n",
       "..                                                 ...             ...   \n",
       "183                                                  💯            7742   \n",
       "184      falcon heavy is a testament to the awesome...           21354   \n",
       "185                            sounds like a good idea           34218   \n",
       "186                                                  🎯           31447   \n",
       "187  there will be a secondary tag below the name f...          100016   \n",
       "\n",
       "     retweet_count  \n",
       "0               30  \n",
       "1               87  \n",
       "2             1397  \n",
       "3               72  \n",
       "4              103  \n",
       "..             ...  \n",
       "183            241  \n",
       "184           1120  \n",
       "185           1267  \n",
       "186           1237  \n",
       "187           5674  \n",
       "\n",
       "[184 rows x 3 columns]"
      ]
     },
     "execution_count": 18,
     "metadata": {},
     "output_type": "execute_result"
    }
   ],
   "source": [
    "df"
   ]
  },
  {
   "cell_type": "markdown",
   "metadata": {},
   "source": [
    "### 3) Remove punctuations and emojis from the tweets"
   ]
  },
  {
   "cell_type": "code",
   "execution_count": 19,
   "metadata": {},
   "outputs": [],
   "source": [
    "df['text'] = df['text'].apply(lambda s:s.translate(str.maketrans('', '', string.punctuation)))"
   ]
  },
  {
   "cell_type": "code",
   "execution_count": 20,
   "metadata": {},
   "outputs": [],
   "source": [
    "emoj = re.compile(\"[\"\n",
    "        u\"\\U0001F600-\\U0001F64F\"  # emoticons\n",
    "        u\"\\U0001F300-\\U0001F5FF\"  # symbols & pictographs\n",
    "        u\"\\U0001F680-\\U0001F6FF\"  # transport & map symbols\n",
    "        u\"\\U0001F1E0-\\U0001F1FF\"  # flags (iOS)\n",
    "        u\"\\U00002500-\\U00002BEF\"  # chinese char\n",
    "        u\"\\U00002702-\\U000027B0\"\n",
    "        u\"\\U00002702-\\U000027B0\"\n",
    "        u\"\\U000024C2-\\U0001F251\"\n",
    "        u\"\\U0001f926-\\U0001f937\"\n",
    "        u\"\\U00010000-\\U0010ffff\"\n",
    "        u\"\\u2640-\\u2642\" \n",
    "        u\"\\u2600-\\u2B55\"\n",
    "        u\"\\u200d\"\n",
    "        u\"\\u23cf\"\n",
    "        u\"\\u23e9\"\n",
    "        u\"\\u231a\"\n",
    "        u\"\\ufe0f\"  # dingbats\n",
    "        u\"\\u3030\"\n",
    "                      \"]+\", re.UNICODE)"
   ]
  },
  {
   "cell_type": "code",
   "execution_count": 21,
   "metadata": {},
   "outputs": [],
   "source": [
    "df['text'] = df['text'].apply(lambda x:emoj.sub(\"\",x))"
   ]
  },
  {
   "cell_type": "code",
   "execution_count": 22,
   "metadata": {},
   "outputs": [
    {
     "data": {
      "text/html": [
       "<div>\n",
       "<style scoped>\n",
       "    .dataframe tbody tr th:only-of-type {\n",
       "        vertical-align: middle;\n",
       "    }\n",
       "\n",
       "    .dataframe tbody tr th {\n",
       "        vertical-align: top;\n",
       "    }\n",
       "\n",
       "    .dataframe thead th {\n",
       "        text-align: right;\n",
       "    }\n",
       "</style>\n",
       "<table border=\"1\" class=\"dataframe\">\n",
       "  <thead>\n",
       "    <tr style=\"text-align: right;\">\n",
       "      <th></th>\n",
       "      <th>text</th>\n",
       "      <th>favorite_count</th>\n",
       "      <th>retweet_count</th>\n",
       "    </tr>\n",
       "  </thead>\n",
       "  <tbody>\n",
       "    <tr>\n",
       "      <th>0</th>\n",
       "      <td>hopefully as soon as next week</td>\n",
       "      <td>298</td>\n",
       "      <td>30</td>\n",
       "    </tr>\n",
       "    <tr>\n",
       "      <th>1</th>\n",
       "      <td>totally agree</td>\n",
       "      <td>1417</td>\n",
       "      <td>87</td>\n",
       "    </tr>\n",
       "    <tr>\n",
       "      <th>2</th>\n",
       "      <td>nope i was alway</td>\n",
       "      <td>27360</td>\n",
       "      <td>1397</td>\n",
       "    </tr>\n",
       "    <tr>\n",
       "      <th>3</th>\n",
       "      <td>yeah</td>\n",
       "      <td>2740</td>\n",
       "      <td>72</td>\n",
       "    </tr>\n",
       "    <tr>\n",
       "      <th>4</th>\n",
       "      <td>congratulations</td>\n",
       "      <td>2034</td>\n",
       "      <td>103</td>\n",
       "    </tr>\n",
       "    <tr>\n",
       "      <th>...</th>\n",
       "      <td>...</td>\n",
       "      <td>...</td>\n",
       "      <td>...</td>\n",
       "    </tr>\n",
       "    <tr>\n",
       "      <th>183</th>\n",
       "      <td></td>\n",
       "      <td>7742</td>\n",
       "      <td>241</td>\n",
       "    </tr>\n",
       "    <tr>\n",
       "      <th>184</th>\n",
       "      <td>falcon heavy is a testament to the awesome...</td>\n",
       "      <td>21354</td>\n",
       "      <td>1120</td>\n",
       "    </tr>\n",
       "    <tr>\n",
       "      <th>185</th>\n",
       "      <td>sounds like a good idea</td>\n",
       "      <td>34218</td>\n",
       "      <td>1267</td>\n",
       "    </tr>\n",
       "    <tr>\n",
       "      <th>186</th>\n",
       "      <td></td>\n",
       "      <td>31447</td>\n",
       "      <td>1237</td>\n",
       "    </tr>\n",
       "    <tr>\n",
       "      <th>187</th>\n",
       "      <td>there will be a secondary tag below the name f...</td>\n",
       "      <td>100016</td>\n",
       "      <td>5674</td>\n",
       "    </tr>\n",
       "  </tbody>\n",
       "</table>\n",
       "<p>184 rows × 3 columns</p>\n",
       "</div>"
      ],
      "text/plain": [
       "                                                  text  favorite_count  \\\n",
       "0                       hopefully as soon as next week             298   \n",
       "1                                        totally agree            1417   \n",
       "2                                   nope i was alway             27360   \n",
       "3                                                 yeah            2740   \n",
       "4                                      congratulations            2034   \n",
       "..                                                 ...             ...   \n",
       "183                                                               7742   \n",
       "184      falcon heavy is a testament to the awesome...           21354   \n",
       "185                            sounds like a good idea           34218   \n",
       "186                                                              31447   \n",
       "187  there will be a secondary tag below the name f...          100016   \n",
       "\n",
       "     retweet_count  \n",
       "0               30  \n",
       "1               87  \n",
       "2             1397  \n",
       "3               72  \n",
       "4              103  \n",
       "..             ...  \n",
       "183            241  \n",
       "184           1120  \n",
       "185           1267  \n",
       "186           1237  \n",
       "187           5674  \n",
       "\n",
       "[184 rows x 3 columns]"
      ]
     },
     "execution_count": 22,
     "metadata": {},
     "output_type": "execute_result"
    }
   ],
   "source": [
    "df"
   ]
  },
  {
   "cell_type": "code",
   "execution_count": null,
   "metadata": {},
   "outputs": [],
   "source": []
  },
  {
   "cell_type": "markdown",
   "metadata": {},
   "source": [
    "### 4) Remove Stop Words from the tweets"
   ]
  },
  {
   "cell_type": "code",
   "execution_count": 23,
   "metadata": {},
   "outputs": [],
   "source": [
    "filtered_sentence = []\n",
    "stop_words = set(stopwords.words('english'))\n",
    "for i in df['text']:\n",
    "    if i not in stop_words:\n",
    "        filtered_sentence.append(i)"
   ]
  },
  {
   "cell_type": "code",
   "execution_count": 24,
   "metadata": {},
   "outputs": [],
   "source": [
    "df['filtered'] = filtered_sentence"
   ]
  },
  {
   "cell_type": "markdown",
   "metadata": {},
   "source": [
    "### Tokenize the Data"
   ]
  },
  {
   "cell_type": "code",
   "execution_count": 25,
   "metadata": {},
   "outputs": [],
   "source": [
    "tokenized = []\n",
    "for i in df['filtered']:\n",
    "    tokenized.append(nltk.word_tokenize(i))\n",
    "df['token'] = tokenized"
   ]
  },
  {
   "cell_type": "code",
   "execution_count": 26,
   "metadata": {},
   "outputs": [
    {
     "data": {
      "text/html": [
       "<div>\n",
       "<style scoped>\n",
       "    .dataframe tbody tr th:only-of-type {\n",
       "        vertical-align: middle;\n",
       "    }\n",
       "\n",
       "    .dataframe tbody tr th {\n",
       "        vertical-align: top;\n",
       "    }\n",
       "\n",
       "    .dataframe thead th {\n",
       "        text-align: right;\n",
       "    }\n",
       "</style>\n",
       "<table border=\"1\" class=\"dataframe\">\n",
       "  <thead>\n",
       "    <tr style=\"text-align: right;\">\n",
       "      <th></th>\n",
       "      <th>text</th>\n",
       "      <th>favorite_count</th>\n",
       "      <th>retweet_count</th>\n",
       "      <th>filtered</th>\n",
       "      <th>token</th>\n",
       "    </tr>\n",
       "  </thead>\n",
       "  <tbody>\n",
       "    <tr>\n",
       "      <th>0</th>\n",
       "      <td>hopefully as soon as next week</td>\n",
       "      <td>298</td>\n",
       "      <td>30</td>\n",
       "      <td>hopefully as soon as next week</td>\n",
       "      <td>[hopefully, as, soon, as, next, week]</td>\n",
       "    </tr>\n",
       "    <tr>\n",
       "      <th>1</th>\n",
       "      <td>totally agree</td>\n",
       "      <td>1417</td>\n",
       "      <td>87</td>\n",
       "      <td>totally agree</td>\n",
       "      <td>[totally, agree]</td>\n",
       "    </tr>\n",
       "    <tr>\n",
       "      <th>2</th>\n",
       "      <td>nope i was alway</td>\n",
       "      <td>27360</td>\n",
       "      <td>1397</td>\n",
       "      <td>nope i was alway</td>\n",
       "      <td>[nope, i, was, alway]</td>\n",
       "    </tr>\n",
       "    <tr>\n",
       "      <th>3</th>\n",
       "      <td>yeah</td>\n",
       "      <td>2740</td>\n",
       "      <td>72</td>\n",
       "      <td>yeah</td>\n",
       "      <td>[yeah]</td>\n",
       "    </tr>\n",
       "    <tr>\n",
       "      <th>4</th>\n",
       "      <td>congratulations</td>\n",
       "      <td>2034</td>\n",
       "      <td>103</td>\n",
       "      <td>congratulations</td>\n",
       "      <td>[congratulations]</td>\n",
       "    </tr>\n",
       "    <tr>\n",
       "      <th>...</th>\n",
       "      <td>...</td>\n",
       "      <td>...</td>\n",
       "      <td>...</td>\n",
       "      <td>...</td>\n",
       "      <td>...</td>\n",
       "    </tr>\n",
       "    <tr>\n",
       "      <th>183</th>\n",
       "      <td></td>\n",
       "      <td>7742</td>\n",
       "      <td>241</td>\n",
       "      <td></td>\n",
       "      <td>[]</td>\n",
       "    </tr>\n",
       "    <tr>\n",
       "      <th>184</th>\n",
       "      <td>falcon heavy is a testament to the awesome...</td>\n",
       "      <td>21354</td>\n",
       "      <td>1120</td>\n",
       "      <td>falcon heavy is a testament to the awesome...</td>\n",
       "      <td>[falcon, heavy, is, a, testament, to, the, awe...</td>\n",
       "    </tr>\n",
       "    <tr>\n",
       "      <th>185</th>\n",
       "      <td>sounds like a good idea</td>\n",
       "      <td>34218</td>\n",
       "      <td>1267</td>\n",
       "      <td>sounds like a good idea</td>\n",
       "      <td>[sounds, like, a, good, idea]</td>\n",
       "    </tr>\n",
       "    <tr>\n",
       "      <th>186</th>\n",
       "      <td></td>\n",
       "      <td>31447</td>\n",
       "      <td>1237</td>\n",
       "      <td></td>\n",
       "      <td>[]</td>\n",
       "    </tr>\n",
       "    <tr>\n",
       "      <th>187</th>\n",
       "      <td>there will be a secondary tag below the name f...</td>\n",
       "      <td>100016</td>\n",
       "      <td>5674</td>\n",
       "      <td>there will be a secondary tag below the name f...</td>\n",
       "      <td>[there, will, be, a, secondary, tag, below, th...</td>\n",
       "    </tr>\n",
       "  </tbody>\n",
       "</table>\n",
       "<p>184 rows × 5 columns</p>\n",
       "</div>"
      ],
      "text/plain": [
       "                                                  text  favorite_count  \\\n",
       "0                       hopefully as soon as next week             298   \n",
       "1                                        totally agree            1417   \n",
       "2                                   nope i was alway             27360   \n",
       "3                                                 yeah            2740   \n",
       "4                                      congratulations            2034   \n",
       "..                                                 ...             ...   \n",
       "183                                                               7742   \n",
       "184      falcon heavy is a testament to the awesome...           21354   \n",
       "185                            sounds like a good idea           34218   \n",
       "186                                                              31447   \n",
       "187  there will be a secondary tag below the name f...          100016   \n",
       "\n",
       "     retweet_count                                           filtered  \\\n",
       "0               30                     hopefully as soon as next week   \n",
       "1               87                                      totally agree   \n",
       "2             1397                                 nope i was alway     \n",
       "3               72                                               yeah   \n",
       "4              103                                    congratulations   \n",
       "..             ...                                                ...   \n",
       "183            241                                                      \n",
       "184           1120      falcon heavy is a testament to the awesome...   \n",
       "185           1267                            sounds like a good idea   \n",
       "186           1237                                                      \n",
       "187           5674  there will be a secondary tag below the name f...   \n",
       "\n",
       "                                                 token  \n",
       "0                [hopefully, as, soon, as, next, week]  \n",
       "1                                     [totally, agree]  \n",
       "2                                [nope, i, was, alway]  \n",
       "3                                               [yeah]  \n",
       "4                                    [congratulations]  \n",
       "..                                                 ...  \n",
       "183                                                 []  \n",
       "184  [falcon, heavy, is, a, testament, to, the, awe...  \n",
       "185                      [sounds, like, a, good, idea]  \n",
       "186                                                 []  \n",
       "187  [there, will, be, a, secondary, tag, below, th...  \n",
       "\n",
       "[184 rows x 5 columns]"
      ]
     },
     "execution_count": 26,
     "metadata": {},
     "output_type": "execute_result"
    }
   ],
   "source": [
    "df"
   ]
  },
  {
   "cell_type": "markdown",
   "metadata": {},
   "source": [
    "### 5) Lemmatize the tweets"
   ]
  },
  {
   "cell_type": "code",
   "execution_count": 27,
   "metadata": {},
   "outputs": [],
   "source": [
    "wl = WordNetLemmatizer()"
   ]
  },
  {
   "cell_type": "code",
   "execution_count": 28,
   "metadata": {},
   "outputs": [],
   "source": [
    "lemmatized = []\n",
    "le_token = []\n",
    "for i in df['token']: #List of words\n",
    "    lemmatized_output = ' '.join([wl.lemmatize(w) for w in i])\n",
    "    le_token_sent = [wl.lemmatize(w) for w in i]\n",
    "    lemmatized.append(lemmatized_output)\n",
    "    le_token.append(le_token_sent)"
   ]
  },
  {
   "cell_type": "code",
   "execution_count": 29,
   "metadata": {},
   "outputs": [],
   "source": [
    "df['lemma'] = lemmatized\n",
    "df['token_lemma'] = le_token"
   ]
  },
  {
   "cell_type": "code",
   "execution_count": 30,
   "metadata": {},
   "outputs": [],
   "source": [
    "df.reset_index(drop=True,inplace=True)"
   ]
  },
  {
   "cell_type": "code",
   "execution_count": 31,
   "metadata": {},
   "outputs": [],
   "source": [
    "for i,val in enumerate(df['lemma']):\n",
    "    if df['lemma'][i] == \"\":\n",
    "        df.drop(index=[i],inplace=True)"
   ]
  },
  {
   "cell_type": "code",
   "execution_count": 32,
   "metadata": {},
   "outputs": [],
   "source": [
    "df.reset_index(drop=True,inplace=True)"
   ]
  },
  {
   "cell_type": "code",
   "execution_count": 33,
   "metadata": {},
   "outputs": [],
   "source": [
    "final_df = df.copy()"
   ]
  },
  {
   "cell_type": "code",
   "execution_count": 34,
   "metadata": {},
   "outputs": [],
   "source": [
    "final_df.drop(columns=['text','favorite_count','retweet_count','filtered','token'],axis=1,inplace=True)"
   ]
  },
  {
   "cell_type": "code",
   "execution_count": 35,
   "metadata": {},
   "outputs": [
    {
     "data": {
      "text/html": [
       "<div>\n",
       "<style scoped>\n",
       "    .dataframe tbody tr th:only-of-type {\n",
       "        vertical-align: middle;\n",
       "    }\n",
       "\n",
       "    .dataframe tbody tr th {\n",
       "        vertical-align: top;\n",
       "    }\n",
       "\n",
       "    .dataframe thead th {\n",
       "        text-align: right;\n",
       "    }\n",
       "</style>\n",
       "<table border=\"1\" class=\"dataframe\">\n",
       "  <thead>\n",
       "    <tr style=\"text-align: right;\">\n",
       "      <th></th>\n",
       "      <th>lemma</th>\n",
       "      <th>token_lemma</th>\n",
       "    </tr>\n",
       "  </thead>\n",
       "  <tbody>\n",
       "    <tr>\n",
       "      <th>0</th>\n",
       "      <td>hopefully a soon a next week</td>\n",
       "      <td>[hopefully, a, soon, a, next, week]</td>\n",
       "    </tr>\n",
       "    <tr>\n",
       "      <th>1</th>\n",
       "      <td>totally agree</td>\n",
       "      <td>[totally, agree]</td>\n",
       "    </tr>\n",
       "    <tr>\n",
       "      <th>2</th>\n",
       "      <td>nope i wa alway</td>\n",
       "      <td>[nope, i, wa, alway]</td>\n",
       "    </tr>\n",
       "    <tr>\n",
       "      <th>3</th>\n",
       "      <td>yeah</td>\n",
       "      <td>[yeah]</td>\n",
       "    </tr>\n",
       "    <tr>\n",
       "      <th>4</th>\n",
       "      <td>congratulation</td>\n",
       "      <td>[congratulation]</td>\n",
       "    </tr>\n",
       "    <tr>\n",
       "      <th>...</th>\n",
       "      <td>...</td>\n",
       "      <td>...</td>\n",
       "    </tr>\n",
       "    <tr>\n",
       "      <th>154</th>\n",
       "      <td>yup</td>\n",
       "      <td>[yup]</td>\n",
       "    </tr>\n",
       "    <tr>\n",
       "      <th>155</th>\n",
       "      <td>that already happens very frequently</td>\n",
       "      <td>[that, already, happens, very, frequently]</td>\n",
       "    </tr>\n",
       "    <tr>\n",
       "      <th>156</th>\n",
       "      <td>falcon heavy is a testament to the awesomeness...</td>\n",
       "      <td>[falcon, heavy, is, a, testament, to, the, awe...</td>\n",
       "    </tr>\n",
       "    <tr>\n",
       "      <th>157</th>\n",
       "      <td>sound like a good idea</td>\n",
       "      <td>[sound, like, a, good, idea]</td>\n",
       "    </tr>\n",
       "    <tr>\n",
       "      <th>158</th>\n",
       "      <td>there will be a secondary tag below the name f...</td>\n",
       "      <td>[there, will, be, a, secondary, tag, below, th...</td>\n",
       "    </tr>\n",
       "  </tbody>\n",
       "</table>\n",
       "<p>159 rows × 2 columns</p>\n",
       "</div>"
      ],
      "text/plain": [
       "                                                 lemma  \\\n",
       "0                         hopefully a soon a next week   \n",
       "1                                        totally agree   \n",
       "2                                      nope i wa alway   \n",
       "3                                                 yeah   \n",
       "4                                       congratulation   \n",
       "..                                                 ...   \n",
       "154                                                yup   \n",
       "155               that already happens very frequently   \n",
       "156  falcon heavy is a testament to the awesomeness...   \n",
       "157                             sound like a good idea   \n",
       "158  there will be a secondary tag below the name f...   \n",
       "\n",
       "                                           token_lemma  \n",
       "0                  [hopefully, a, soon, a, next, week]  \n",
       "1                                     [totally, agree]  \n",
       "2                                 [nope, i, wa, alway]  \n",
       "3                                               [yeah]  \n",
       "4                                     [congratulation]  \n",
       "..                                                 ...  \n",
       "154                                              [yup]  \n",
       "155         [that, already, happens, very, frequently]  \n",
       "156  [falcon, heavy, is, a, testament, to, the, awe...  \n",
       "157                       [sound, like, a, good, idea]  \n",
       "158  [there, will, be, a, secondary, tag, below, th...  \n",
       "\n",
       "[159 rows x 2 columns]"
      ]
     },
     "execution_count": 35,
     "metadata": {},
     "output_type": "execute_result"
    }
   ],
   "source": [
    "final_df"
   ]
  },
  {
   "cell_type": "code",
   "execution_count": null,
   "metadata": {},
   "outputs": [],
   "source": []
  },
  {
   "cell_type": "markdown",
   "metadata": {},
   "source": [
    "## Main decision on how to cluster the tweets\n"
   ]
  },
  {
   "cell_type": "code",
   "execution_count": null,
   "metadata": {},
   "outputs": [],
   "source": []
  }
 ],
 "metadata": {
  "kernelspec": {
   "display_name": "Python 3 (ipykernel)",
   "language": "python",
   "name": "python3"
  },
  "language_info": {
   "codemirror_mode": {
    "name": "ipython",
    "version": 3
   },
   "file_extension": ".py",
   "mimetype": "text/x-python",
   "name": "python",
   "nbconvert_exporter": "python",
   "pygments_lexer": "ipython3",
   "version": "3.9.12"
  },
  "vscode": {
   "interpreter": {
    "hash": "aee8b7b246df8f9039afb4144a1f6fd8d2ca17a180786b69acc140d282b71a49"
   }
  }
 },
 "nbformat": 4,
 "nbformat_minor": 2
}
